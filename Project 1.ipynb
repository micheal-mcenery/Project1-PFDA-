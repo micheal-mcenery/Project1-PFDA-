{
 "cells": [
  {
   "cell_type": "markdown",
   "id": "5516080e",
   "metadata": {},
   "source": [
    "<h1 style=\"font-size:3rem;color:rgb(0, 91, 94);text-align:center;\">Project 1</h1>\n",
    "<hr style=\\\"border-top: 1px solid rgb(0, 91, 94);\\\" />"
   ]
  },
  {
   "cell_type": "markdown",
   "id": "4fa591f5",
   "metadata": {},
   "source": [
    "\n",
    "<h2 style=\"color:rgb(0, 91, 94)\">Background</h2>\n",
    "<hr style=\\\"border-top: 1px solid rgb(0, 91, 94);\\\" />"
   ]
  },
  {
   "cell_type": "markdown",
   "id": "20929ce2",
   "metadata": {},
   "source": [
    "The purpose of this project is to synthesise a data set which simulates an investigation of a real-world phenomenon. The phenomenon I have chosen to investigate for this project is Happiness, more speficifally, predictors of human happiness in adults. This will be done by simulating a dataset with 100 datapoints for 4 key variables; Human happiness (the dependent variable), and three predictor variables (Age, Income, Years in Education). Outlined below are further details on how these variables will be measured, their relationships with one another, and their distributions."
   ]
  },
  {
   "cell_type": "markdown",
   "id": "41a4cdb0",
   "metadata": {},
   "source": [
    "The Variables:"
   ]
  },
  {
   "cell_type": "markdown",
   "id": "d5ff7ceb",
   "metadata": {},
   "source": [
    "- Human happiness will be measured using the Subjective Happiness Scale as reference. This 4-item Likert-type scale measures subjective happiness with an overall mean subjective happiness score range of 4 - 28. (Sonjalyubomirsky.com, 2022)"
   ]
  },
  {
   "cell_type": "markdown",
   "id": "5bbca98d",
   "metadata": {},
   "source": [
    "- Age will be measured via participants reported age (with a minimum age of 18 being required for participation)."
   ]
  },
  {
   "cell_type": "markdown",
   "id": "e5083785",
   "metadata": {},
   "source": [
    "- Income will be measured via reported salary/household income (with the lowest possible income amount being €9240.40, for the purposes of this project, based on the cumulative lowest weekly allowance for a person recieving Job Seekers Allowance (Citizensinformation.ie, 2022))"
   ]
  },
  {
   "cell_type": "markdown",
   "id": "aac17fa7",
   "metadata": {},
   "source": [
    "- Number of school years will be measured via reported number of years in education."
   ]
  },
  {
   "cell_type": "markdown",
   "id": "11b465f1",
   "metadata": {},
   "source": [
    "Relationship among Variables:\n",
    "\n"
   ]
  },
  {
   "cell_type": "markdown",
   "id": "b8b028a6",
   "metadata": {},
   "source": [
    "Distributions:\n",
    "    \n"
   ]
  },
  {
   "cell_type": "markdown",
   "id": "246c5322",
   "metadata": {},
   "source": [
    "\n",
    "<h2 style=\"color:rgb(0, 91, 94)\">Datasets</h2>\n",
    "<hr style=\\\"border-top: 1px solid rgb(0, 91, 94);\\\" />"
   ]
  },
  {
   "cell_type": "code",
   "execution_count": null,
   "id": "156f8c60",
   "metadata": {},
   "outputs": [],
   "source": []
  },
  {
   "cell_type": "markdown",
   "id": "e474062e",
   "metadata": {},
   "source": [
    "\n",
    "<h2 style=\"color:rgb(0, 91, 94)\">References</h2>\n",
    "<hr style=\\\"border-top: 1px solid rgb(0, 91, 94);\\\" />"
   ]
  },
  {
   "cell_type": "markdown",
   "id": "ab071297",
   "metadata": {},
   "source": [
    "Sonjalyubomirsky.com. (2022). Subjective Happiness Scale (SHS) | SonjaLyubomirsky.com. [online] Available at: https://sonjalyubomirsky.com/subjective-happiness-scale-shs/ [Accessed 13 Nov. 2022]."
   ]
  },
  {
   "cell_type": "markdown",
   "id": "fe31e731",
   "metadata": {},
   "source": [
    "Citizensinformation.ie (2022). Jobseeker’s Allowance. [online] Citizensinformation.ie. Available at: https://www.citizensinformation.ie/en/social_welfare/social_welfare_payments/unemployed_people/jobseekers_allowance.html [Accessed 13 Nov. 2022].\n"
   ]
  },
  {
   "cell_type": "code",
   "execution_count": null,
   "id": "fb62821f",
   "metadata": {},
   "outputs": [],
   "source": []
  }
 ],
 "metadata": {
  "kernelspec": {
   "display_name": "Python 3 (ipykernel)",
   "language": "python",
   "name": "python3"
  },
  "language_info": {
   "codemirror_mode": {
    "name": "ipython",
    "version": 3
   },
   "file_extension": ".py",
   "mimetype": "text/x-python",
   "name": "python",
   "nbconvert_exporter": "python",
   "pygments_lexer": "ipython3",
   "version": "3.9.7"
  }
 },
 "nbformat": 4,
 "nbformat_minor": 5
}
