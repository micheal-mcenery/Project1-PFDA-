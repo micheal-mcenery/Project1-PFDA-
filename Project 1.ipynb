{
 "cells": [
  {
   "cell_type": "markdown",
   "id": "5516080e",
   "metadata": {},
   "source": [
    "<h1 style=\"font-size:3rem;color:rgb(0, 91, 94);text-align:center;\">Project 1</h1>\n",
    "<hr style=\\\"border-top: 1px solid rgb(0, 91, 94);\\\" />"
   ]
  },
  {
   "cell_type": "markdown",
   "id": "4fa591f5",
   "metadata": {},
   "source": [
    "\n",
    "<h2 style=\"color:rgb(0, 91, 94)\">Background</h2>\n",
    "<hr style=\\\"border-top: 1px solid rgb(0, 91, 94);\\\" />"
   ]
  },
  {
   "cell_type": "markdown",
   "id": "20929ce2",
   "metadata": {},
   "source": [
    "The purpose of this project is to synthesise a data set which simulates an investigation of a real-world phenomenon. The phenomenon I have chosen to investigate for this project is Happiness, more speficifally, predictors of human happiness in young and middle aged adults. This will be done by simulating a dataset with 100 datapoints for 4 key variables; Human happiness (the dependent variable), and three predictor variables (Age, Income, Gender)\n",
    "\n",
    "Self-reported human happiness will be measured on a scale of 1 - 10.\n",
    "\n",
    "Age will be measured on a scale of 18 - 65.\n",
    "\n",
    "Income will be measured on a scale of €20,000 - €350,000.\n",
    "\n",
    "Gender will either be Male or Female (for the purposes of this project).\n"
   ]
  }
 ],
 "metadata": {
  "kernelspec": {
   "display_name": "Python 3 (ipykernel)",
   "language": "python",
   "name": "python3"
  },
  "language_info": {
   "codemirror_mode": {
    "name": "ipython",
    "version": 3
   },
   "file_extension": ".py",
   "mimetype": "text/x-python",
   "name": "python",
   "nbconvert_exporter": "python",
   "pygments_lexer": "ipython3",
   "version": "3.9.7"
  }
 },
 "nbformat": 4,
 "nbformat_minor": 5
}
