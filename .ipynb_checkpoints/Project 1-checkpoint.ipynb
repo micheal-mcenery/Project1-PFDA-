{
 "cells": [
  {
   "cell_type": "markdown",
   "id": "5516080e",
   "metadata": {},
   "source": [
    "<h1 style=\"font-size:3rem;color:rgb(0, 91, 94);text-align:center;\">Project 1</h1>\n",
    "<hr style=\\\"border-top: 1px solid rgb(0, 91, 94);\\\" />"
   ]
  },
  {
   "cell_type": "markdown",
   "id": "4fa591f5",
   "metadata": {},
   "source": [
    "\n",
    "<h2 style=\"color:rgb(0, 91, 94)\">Background</h2>\n",
    "<hr style=\\\"border-top: 1px solid rgb(0, 91, 94);\\\" />"
   ]
  },
  {
   "cell_type": "markdown",
   "id": "20929ce2",
   "metadata": {},
   "source": [
    "The purpose of this project is to synthesise a data set which simulates an investigation of a real-world phenomenon. The phenomenon I have chosen to investigate for this project is Happiness, more speficifally, predictors of human happiness in adults. This will be done by simulating a dataset with 100 datapoints for 4 key variables; Human happiness (the dependent variable), and three predictor variables (Age, Income, Years in Education). Outlined below are further details on how these variables will be measured, their relationships with one another, and their distributions."
   ]
  },
  {
   "cell_type": "markdown",
   "id": "41a4cdb0",
   "metadata": {},
   "source": [
    "<h3 style=\"color:rgb(0, 91, 94)\">Variables</h3>"
   ]
  },
  {
   "cell_type": "markdown",
   "id": "d5ff7ceb",
   "metadata": {},
   "source": [
    "- Human happiness will be measured using the Subjective Happiness Scale. This 4-item Likert-type scale measures subjective happiness with a subjective happiness score range of 1 - 7. (Sonjalyubomirsky.com, 2022)"
   ]
  },
  {
   "cell_type": "markdown",
   "id": "5bbca98d",
   "metadata": {},
   "source": [
    "- Age will be measured via participants reported age (with a minimum age of 18 being required for participation)."
   ]
  },
  {
   "cell_type": "markdown",
   "id": "e5083785",
   "metadata": {},
   "source": [
    "- Income will be measured via reported salary/household income (with the lowest possible income amount being €9240.40, for the purposes of this project, based on the cumulative lowest weekly allowance for a person recieving Job Seekers Allowance (Citizensinformation.ie, 2022))"
   ]
  },
  {
   "cell_type": "markdown",
   "id": "aac17fa7",
   "metadata": {},
   "source": [
    "- Number of school years will be measured via reported number of years in education."
   ]
  },
  {
   "cell_type": "markdown",
   "id": "11b465f1",
   "metadata": {},
   "source": [
    "<h3 style=\"color:rgb(0, 91, 94)\">Relationships among Variables</h3>"
   ]
  },
  {
   "cell_type": "markdown",
   "id": "bf71856e",
   "metadata": {},
   "source": [
    "Below I have outlined some preliminary research on the relationships between the chosen variables. I have chosen to highlight research which, were the datapoints involved in this project real world data (not fabricated), would be interesting to investigate. The below research also highlights the complex and intricate relationship many factors can have on human happiness."
   ]
  },
  {
   "cell_type": "markdown",
   "id": "bb60c959",
   "metadata": {},
   "source": [
    "Age and Happiness:\n",
    "\n",
    "Numerous studies have shown connections between Age and Happiness. Research by Mroczek and Kolarz (1998) found that increased age was associoated with positive affect related to happiness. Conversely, research by Vera-Villarroel et al. (2012) has indicated that while higher socioeconomic status is associoated with higher levels of happiness, higher age is associoated lower levels of happiness.  \n",
    "\n",
    "Research by Toshkov (2022) which has also examined the relationship between Age, Income and Happiness has demonstrated that the relationship between Age and Happiness can vary depending on socioeconomic status, with lower income people experiencing a significant drop in happiness following youth, while middle income people experience increased happiness during youth and old age, and high income people experiencing stable levels of happiness across the lifetime."
   ]
  },
  {
   "cell_type": "markdown",
   "id": "21341d0f",
   "metadata": {},
   "source": [
    "Income and Happiness:\n",
    "\n",
    "As touched on previously, research has shown links between levels of income (socioeconomic status) and happiness. Research by Clark, Frijters and Shields (2006) when examining the European Social Survey found that across Europe income was positively correlated with both happiness and life satisfaction, however had a negative effect on personal well being. \n",
    "\n",
    "Previously, I have outlined the findings of Toshkov (2022), more specifically, the findings which indicated that for life-long high income individuals, levels of happiness were stable over time. These findings are consistent with the \"Easterlin Paradox\", which states that while cross sectionally happiness and income can be considered related, over time growth rates of happiness are not signifiacntly related to increased income in developed nations (Easterlin and O'Connor, 2020). When discussing the Easterlin Paradox, researchers Caporale, Georgellis, Tsitsianis and Yin (2009) argue that while initial higher income brings both consumption and status benefits to an individual, over time these benefits are a \"zero sum gain\" and that these benefits do not increase at the same rate as increased income, resulting in a flattening of happiness rates across high income individuals."
   ]
  },
  {
   "cell_type": "markdown",
   "id": "602170e9",
   "metadata": {},
   "source": [
    "Years of Education and Happiness:\n",
    "    \n",
    "Research by Cuñado and de Gracia (2012) has shown that higher levels of education had a direct positive effect on levels of happiness, and well as indirect positive effects through increased income and labour status. Individuals who have achieved higher education status by their thirties are also on average happier then their less educated counterparts (Nikolaev and Rusakov, 2016). Research has also indicated that people who achieve higher education have \"more extensive social networks as well as greater involvement with the wider world\", both traits which are positively related to happiness (Chen, 2012)."
   ]
  },
  {
   "cell_type": "markdown",
   "id": "b8b028a6",
   "metadata": {},
   "source": [
    "<h3 style=\"color:rgb(0, 91, 94)\">Distributions, Means, and Standard Deviations</h3>\n",
    "    \n"
   ]
  },
  {
   "cell_type": "markdown",
   "id": "7863a44b",
   "metadata": {},
   "source": [
    "Happiness:\n",
    "\n",
    "Sample mean and standard deviation figures for happiness were sourced from Lyubomirsky and Lepper (1999) who investigated the validity and reliability of the Subjective Happiness Scale. Specifically, the mean and standard deviation figures returned from the \"U.S adult community sample\" were chosen, due to larger variance age and demographic backgrounds. (Mean = 5.62; S.D = 0.96). As not stated otherwise, data is assumed to be normally distributed."
   ]
  },
  {
   "cell_type": "markdown",
   "id": "5cb1f177",
   "metadata": {},
   "source": [
    "Age:\n",
    "    \n",
    "Sample mean and standard deviation figures for age were sourced from Hsieh (2011) who investigated the impact of numerous variables on human happiness, including age. (Mean = 44.3; S.D = 17.2). As not stated otherwise, data is assumed to be normally distributed."
   ]
  },
  {
   "cell_type": "markdown",
   "id": "5fd1e1e9",
   "metadata": {},
   "source": [
    "Income:\n",
    "    \n",
    "Sample mean and standard deviation figures for income were also sourced from Hsieh (2011). (Mean = 30,314.1; S.D = 25,343.5). As not stated otherwise, data is assumed to be normally distributed. Income figures were measured in US Dollar."
   ]
  },
  {
   "cell_type": "markdown",
   "id": "eed15099",
   "metadata": {},
   "source": [
    "Years of education:\n",
    "    \n",
    "Sample mean and standard deviation figures for years of education were also sourced from Hsieh (2011). (Mean = 12.3; S.D = 3.2). As not stated otherwise, data is assumed to be normally distributed."
   ]
  },
  {
   "cell_type": "markdown",
   "id": "246c5322",
   "metadata": {},
   "source": [
    "\n",
    "<h2 style=\"color:rgb(0, 91, 94)\">Datasets</h2>\n",
    "<hr style=\\\"border-top: 1px solid rgb(0, 91, 94);\\\" />"
   ]
  },
  {
   "cell_type": "markdown",
   "id": "e9d872e6",
   "metadata": {},
   "source": [
    "<h3 style=\"color:rgb(0, 91, 94)\">Happiness</h3>"
   ]
  },
  {
   "cell_type": "code",
   "execution_count": 2,
   "id": "f85b883c",
   "metadata": {},
   "outputs": [
    {
     "name": "stdout",
     "output_type": "stream",
     "text": [
      "Below is the happiness dataset: \n",
      " [5, 3, 6, 5, 6, 5, 4, 6, 4, 5, 4, 6, 5, 6, 6, 5, 6, 5, 5, 6, 5, 5, 5, 6, 6, 5, 5, 6, 5, 7, 5, 5, 4, 4, 6, 5, 4, 5, 4, 5, 5, 5, 5, 4, 5, 7, 5, 5, 5, 5, 6, 5, 5, 6, 5, 4, 5, 4, 5, 5, 4, 4, 4, 5, 6, 5, 6, 5, 5, 5, 5, 5, 4, 5, 5, 6, 4, 4, 5, 4, 4, 4, 4, 6, 7, 6, 5, 5, 7, 5, 5, 5, 6, 7, 7, 6, 6, 5, 5, 6]\n"
     ]
    },
    {
     "data": {
      "text/plain": [
       "Text(0.5, 1.0, 'Happiness scores')"
      ]
     },
     "execution_count": 2,
     "metadata": {},
     "output_type": "execute_result"
    },
    {
     "data": {
      "image/png": "[encoded data removed]",
      "text/plain": [
       "<Figure size 432x288 with 1 Axes>"
      ]
     },
     "metadata": {
      "needs_background": "light"
     },
     "output_type": "display_data"
    }
   ],
   "source": [
    "import matplotlib.pyplot as plt\n",
    "import numpy as np\n",
    "\n",
    "# Define the random number generator\n",
    "rng = np.random.default_rng()\n",
    "\n",
    "happiness_scores = []\n",
    "\n",
    "# Repeat below steps until \"happiness_scores\" contains 100 datapoints\n",
    "while len(happiness_scores) < 100:\n",
    "    # Returns one randomly generated, normally distributed whole number based on defined Mean and SD as \"happiness_sample\"\n",
    "    happiness_sample = int(rng.normal(5.62, 0.96, 1))\n",
    "    \n",
    "    # If \"happiness_sample\" falls within the acceptable range (1-7), append to list \"happiness_scores\"\n",
    "    if happiness_sample >= 1 and happiness_sample <= 7:\n",
    "        happiness_scores.append(happiness_sample)\n",
    "\n",
    "print(f\"Below is the happiness dataset: \\n {happiness_scores}\")\n",
    "\n",
    "# Defines the histogram which represents the dataset using matplotlib.\n",
    "plt.hist(happiness_scores, bins=5)\n",
    "plt.title(\"Happiness scores\")"
   ]
  },
  {
   "cell_type": "markdown",
   "id": "722f0912",
   "metadata": {},
   "source": [
    "<h3 style=\"color:rgb(0, 91, 94)\">Age</h3>"
   ]
  },
  {
   "cell_type": "code",
   "execution_count": 10,
   "id": "d26abc09",
   "metadata": {},
   "outputs": [
    {
     "name": "stdout",
     "output_type": "stream",
     "text": [
      "Below is the age dataset: \n",
      " [25, 47, 34, 33, 18, 33, 47, 55, 59, 40, 43, 54, 87, 46, 32, 24, 25, 35, 77, 29, 43, 26, 28, 34, 29, 71, 49, 27, 49, 42, 44, 52, 44, 45, 46, 67, 41, 44, 42, 50, 39, 49, 36, 49, 56, 41, 72, 27, 53, 38, 61, 61, 34, 48, 66, 30, 21, 52, 26, 32, 45, 35, 69, 25, 73, 46, 26, 31, 54, 47, 42, 30, 27, 34, 57, 59, 63, 34, 42, 25, 76, 30, 61, 40, 55, 44, 55, 44, 39, 60, 22, 71, 32, 44, 33, 32, 57, 61, 62, 24]\n"
     ]
    },
    {
     "data": {
      "text/plain": [
       "Text(0.5, 1.0, 'Ages')"
      ]
     },
     "execution_count": 10,
     "metadata": {},
     "output_type": "execute_result"
    },
    {
     "data": {
      "image/png": "[encoded data removed]",
      "text/plain": [
       "<Figure size 432x288 with 1 Axes>"
      ]
     },
     "metadata": {
      "needs_background": "light"
     },
     "output_type": "display_data"
    }
   ],
   "source": [
    "import matplotlib.pyplot as plt\n",
    "import numpy as np\n",
    "\n",
    "# Define the random number generator\n",
    "rng = np.random.default_rng()\n",
    "\n",
    "ages = []\n",
    "\n",
    "# Repeat below steps until \"ages\" contains 100 datapoints\n",
    "while len(ages) < 100:\n",
    "    # Returns one randomly generated, normally distributed whole number based on defined Mean and SD as \"age_sample\"\n",
    "    age_sample = int(rng.normal(44.3, 17.2, 1))\n",
    "    \n",
    "    # If \"age_sample\" falls within the acceptable range (+18), append to list \"ages\"\n",
    "    if age_sample >= 18:\n",
    "        ages.append(age_sample)\n",
    "\n",
    "print(f\"Below is the age dataset: \\n {ages}\")\n",
    "\n",
    "# Defines the histogram which represents the dataset using matplotlib.\n",
    "plt.hist(ages, bins=5)\n",
    "plt.title(\"Ages\")"
   ]
  },
  {
   "cell_type": "markdown",
   "id": "4a6d3eb1",
   "metadata": {},
   "source": [
    "<h3 style=\"color:rgb(0, 91, 94)\">Income</h3>"
   ]
  },
  {
   "cell_type": "code",
   "execution_count": 9,
   "id": "e278cb47",
   "metadata": {},
   "outputs": [
    {
     "name": "stdout",
     "output_type": "stream",
     "text": [
      "Below is the income dataset: \n",
      " [25872, 60614, 27882, 38024, 60043, 11472, 59458, 45749, 31256, 91454, 53722, 37378, 16030, 37181, 96912, 18435, 65205, 42896, 68269, 31756, 14302, 36830, 36804, 39724, 52970, 41667, 20272, 30288, 39896, 52917, 42785, 19653, 63061, 37082, 19171, 54688, 20164, 15740, 66905, 36364, 42147, 62958, 28525, 32955, 61018, 30746, 27298, 42176, 63122, 74098, 10627, 38876, 25414, 38585, 12483, 99399, 29689, 28652, 36138, 24247, 50326, 31580, 41922, 38561, 56925, 33191, 50519, 33017, 24279, 58765, 18874, 10471, 39888, 55397, 39049, 48994, 80018, 14719, 16739, 35001, 32045, 21259, 81799, 28877, 76671, 54857, 22634, 16145, 16402, 53061, 66139, 47303, 100566, 46779, 38207, 37043, 29695, 22498, 37821, 47133]\n"
     ]
    },
    {
     "data": {
      "text/plain": [
       "Text(0.5, 1.0, 'Incomes')"
      ]
     },
     "execution_count": 9,
     "metadata": {},
     "output_type": "execute_result"
    },
    {
     "data": {
      "image/png": "[encoded data removed]",
      "text/plain": [
       "<Figure size 432x288 with 1 Axes>"
      ]
     },
     "metadata": {
      "needs_background": "light"
     },
     "output_type": "display_data"
    }
   ],
   "source": [
    "import matplotlib.pyplot as plt\n",
    "import numpy as np\n",
    "\n",
    "# Define the random number generator\n",
    "rng = np.random.default_rng()\n",
    "\n",
    "income_list = []\n",
    "\n",
    "# Repeat below steps until \"income_list\" contains 100 datapoints\n",
    "while len(income_list) < 100:\n",
    "    # Returns one randomly generated, normally distributed number based on defined Mean and SD as \"income_sample\"\n",
    "    income_sample = int(rng.normal(30314.1, 25343.5, 1))\n",
    "    \n",
    "    # If \"income_sample\" falls within the acceptable range (>= 9240.40), append to list \"income_list\"\n",
    "    if income_sample >= 9240.40:\n",
    "        income_list.append(income_sample)\n",
    "\n",
    "print(f\"Below is the income dataset: \\n {income_list}\")\n",
    "\n",
    "# Defines the histogram which represents the dataset using matplotlib.\n",
    "plt.hist(income_list, bins=5)\n",
    "plt.title(\"Incomes\")"
   ]
  },
  {
   "cell_type": "markdown",
   "id": "0a8d2282",
   "metadata": {},
   "source": [
    "<h3 style=\"color:rgb(0, 91, 94)\">Education</h3>"
   ]
  },
  {
   "cell_type": "code",
   "execution_count": 11,
   "id": "33f28b9a",
   "metadata": {},
   "outputs": [
    {
     "name": "stdout",
     "output_type": "stream",
     "text": [
      "Below is the education dataset: \n",
      " [10, 14, 9, 2, 13, 11, 8, 9, 17, 12, 12, 14, 9, 11, 9, 11, 11, 10, 7, 13, 8, 11, 12, 9, 10, 14, 14, 20, 14, 6, 13, 13, 12, 17, 12, 14, 9, 4, 16, 11, 11, 13, 15, 10, 14, 13, 12, 9, 8, 16, 8, 14, 10, 17, 10, 10, 11, 12, 8, 15, 16, 10, 12, 8, 11, 2, 16, 11, 8, 14, 10, 13, 12, 4, 14, 15, 8, 5, 10, 10, 9, 9, 14, 15, 8, 11, 11, 15, 11, 14, 12, 14, 9, 19, 13, 9, 10, 14, 6, 10]\n"
     ]
    },
    {
     "data": {
      "text/plain": [
       "Text(0.5, 1.0, 'School Years')"
      ]
     },
     "execution_count": 11,
     "metadata": {},
     "output_type": "execute_result"
    },
    {
     "data": {
      "image/png": "[encoded data removed]",
      "text/plain": [
       "<Figure size 432x288 with 1 Axes>"
      ]
     },
     "metadata": {
      "needs_background": "light"
     },
     "output_type": "display_data"
    }
   ],
   "source": [
    "import matplotlib.pyplot as plt\n",
    "import numpy as np\n",
    "\n",
    "# Define the random number generator\n",
    "rng = np.random.default_rng()\n",
    "\n",
    "school_years = []\n",
    "\n",
    "# Repeat below steps until \"school_years\" contains 100 datapoints\n",
    "while len(school_years) < 100:\n",
    "    # Returns one randomly generated, normally distributed whole number based on defined Mean and SD as \"school_sample\"\n",
    "    school_sample = int(rng.normal(12.3, 3.2, 1))\n",
    "    \n",
    "    # If \"school_sample\" falls within the acceptable range (>= 0), append to list \"school_years\"\n",
    "    if school_sample >= 0:\n",
    "        school_years.append(school_sample)\n",
    "\n",
    "print(f\"Below is the education dataset: \\n {school_years}\")\n",
    "\n",
    "# Defines the histogram which represents the dataset using matplotlib.\n",
    "plt.hist(school_years, bins=5)\n",
    "plt.title(\"School Years\")"
   ]
  },
  {
   "cell_type": "markdown",
   "id": "e474062e",
   "metadata": {},
   "source": [
    "\n",
    "<h2 style=\"color:rgb(0, 91, 94)\">References</h2>\n",
    "<hr style=\\\"border-top: 1px solid rgb(0, 91, 94);\\\" />"
   ]
  },
  {
   "cell_type": "markdown",
   "id": "ab071297",
   "metadata": {},
   "source": [
    "Sonjalyubomirsky.com. (2022). Subjective Happiness Scale (SHS) | SonjaLyubomirsky.com. [online] Available at: https://sonjalyubomirsky.com/subjective-happiness-scale-shs/ [Accessed 13 Nov. 2022]."
   ]
  },
  {
   "cell_type": "markdown",
   "id": "fe31e731",
   "metadata": {},
   "source": [
    "Citizensinformation.ie (2022). Jobseeker’s Allowance. [online] Citizensinformation.ie. Available at: https://www.citizensinformation.ie/en/social_welfare/social_welfare_payments/unemployed_people/jobseekers_allowance.html [Accessed 13 Nov. 2022].\n"
   ]
  },
  {
   "cell_type": "markdown",
   "id": "1d174c50",
   "metadata": {},
   "source": [
    "Vera-Villarroel, P., Celis-Atenas, K., Pavez, P., Lillo, S., Bello, F., Díaz, N. and López, W., 2012. Money, Age and Happiness: Association of Subjective Wellbeing with Socio-Demographic Variables. Revista latinoamericana de Psicología, 44(2), p.155."
   ]
  },
  {
   "cell_type": "markdown",
   "id": "87c19711",
   "metadata": {},
   "source": [
    "Mroczek, D.K. and Kolarz, C.M., 1998. The effect of age on positive and negative affect: a developmental perspective on happiness. Journal of personality and social psychology, 75(5), p.1333."
   ]
  },
  {
   "cell_type": "markdown",
   "id": "25ed3bf5",
   "metadata": {},
   "source": [
    "Toshkov, D. (2022). The relationship between age and happiness varies by income. Journal of Happiness Studies, 23(3), 1169-1188."
   ]
  },
  {
   "cell_type": "markdown",
   "id": "481ad360",
   "metadata": {},
   "source": [
    "Clark, A.E., Frijters, P. and Shields, M.A., 2006. Income and happiness: Evidence, explanations and economic implications."
   ]
  },
  {
   "cell_type": "markdown",
   "id": "ae09839b",
   "metadata": {},
   "source": [
    "Easterlin, R.A. and O'Connor, K., 2020. The Easterlin Paradox. Available at SSRN 3743147."
   ]
  },
  {
   "cell_type": "markdown",
   "id": "ef61ba2a",
   "metadata": {},
   "source": [
    "Caporale, G.M., Georgellis, Y., Tsitsianis, N. and Yin, Y.P., 2009. Income and happiness across Europe: Do reference values matter?. Journal of Economic Psychology, 30(1), pp.42-51."
   ]
  },
  {
   "cell_type": "markdown",
   "id": "ecd606df",
   "metadata": {},
   "source": [
    "Cuñado, J. and de Gracia, F.P., 2012. Does education affect happiness? Evidence for Spain. Social indicators research, 108(1), pp.185-196."
   ]
  },
  {
   "cell_type": "markdown",
   "id": "22d3416f",
   "metadata": {},
   "source": [
    "Nikolaev, B. and Rusakov, P., 2016. Education and happiness: an alternative hypothesis. Applied Economics Letters, 23(12), pp.827-830."
   ]
  },
  {
   "cell_type": "markdown",
   "id": "a6b1ab7f",
   "metadata": {},
   "source": [
    "Chen, W.C., 2012. How education enhances happiness: Comparison of mediating factors in four East Asian countries. Social indicators research, 106(1), pp.117-131."
   ]
  },
  {
   "cell_type": "markdown",
   "id": "1c8aa17f",
   "metadata": {},
   "source": [
    "Lyubomirsky, S. and Lepper, H.S., 1999. A measure of subjective happiness: Preliminary reliability and construct validation. Social indicators research, 46(2), pp.137-155."
   ]
  },
  {
   "cell_type": "markdown",
   "id": "8931e369",
   "metadata": {},
   "source": [
    "Hsieh, C.M., 2011. Money and happiness: does age make a difference?. Ageing & Society, 31(8), pp.1289-1306."
   ]
  }
 ],
 "metadata": {
  "kernelspec": {
   "display_name": "Python 3 (ipykernel)",
   "language": "python",
   "name": "python3"
  },
  "language_info": {
   "codemirror_mode": {
    "name": "ipython",
    "version": 3
   },
   "file_extension": ".py",
   "mimetype": "text/x-python",
   "name": "python",
   "nbconvert_exporter": "python",
   "pygments_lexer": "ipython3",
   "version": "3.9.7"
  }
 },
 "nbformat": 4,
 "nbformat_minor": 5
}
